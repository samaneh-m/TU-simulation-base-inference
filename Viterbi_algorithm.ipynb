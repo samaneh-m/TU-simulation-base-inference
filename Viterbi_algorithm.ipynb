{
  "nbformat": 4,
  "nbformat_minor": 0,
  "metadata": {
    "colab": {
      "provenance": [],
      "authorship_tag": "ABX9TyPY7NQLTfputG83sSnFnYU2",
      "include_colab_link": true
    },
    "kernelspec": {
      "name": "python3",
      "display_name": "Python 3"
    },
    "language_info": {
      "name": "python"
    }
  },
  "cells": [
    {
      "cell_type": "markdown",
      "metadata": {
        "id": "view-in-github",
        "colab_type": "text"
      },
      "source": [
        "<a href=\"https://colab.research.google.com/github/samaneh-m/TU-simulation-base-inference/blob/main/Viterbi_algorithm.ipynb\" target=\"_parent\"><img src=\"https://colab.research.google.com/assets/colab-badge.svg\" alt=\"Open In Colab\"/></a>"
      ]
    },
    {
      "cell_type": "code",
      "execution_count": 1,
      "metadata": {
        "colab": {
          "base_uri": "https://localhost:8080/"
        },
        "id": "HjB3T6dkNTT_",
        "outputId": "f835d2aa-cfbc-41d6-8a8a-1aa9fad4792e"
      },
      "outputs": [
        {
          "output_type": "stream",
          "name": "stdout",
          "text": [
            "Requirement already satisfied: bayesflow>=2.0 in /usr/local/lib/python3.11/dist-packages (2.0.5)\n",
            "Requirement already satisfied: keras>=3.9 in /usr/local/lib/python3.11/dist-packages (from bayesflow>=2.0) (3.10.0)\n",
            "Requirement already satisfied: matplotlib in /usr/local/lib/python3.11/dist-packages (from bayesflow>=2.0) (3.10.0)\n",
            "Requirement already satisfied: numpy<2.0,>=1.24 in /usr/local/lib/python3.11/dist-packages (from bayesflow>=2.0) (1.26.4)\n",
            "Requirement already satisfied: pandas in /usr/local/lib/python3.11/dist-packages (from bayesflow>=2.0) (2.2.2)\n",
            "Requirement already satisfied: scipy in /usr/local/lib/python3.11/dist-packages (from bayesflow>=2.0) (1.15.3)\n",
            "Requirement already satisfied: seaborn in /usr/local/lib/python3.11/dist-packages (from bayesflow>=2.0) (0.13.2)\n",
            "Requirement already satisfied: tqdm in /usr/local/lib/python3.11/dist-packages (from bayesflow>=2.0) (4.67.1)\n",
            "Requirement already satisfied: absl-py in /usr/local/lib/python3.11/dist-packages (from keras>=3.9->bayesflow>=2.0) (1.4.0)\n",
            "Requirement already satisfied: rich in /usr/local/lib/python3.11/dist-packages (from keras>=3.9->bayesflow>=2.0) (13.9.4)\n",
            "Requirement already satisfied: namex in /usr/local/lib/python3.11/dist-packages (from keras>=3.9->bayesflow>=2.0) (0.1.0)\n",
            "Requirement already satisfied: h5py in /usr/local/lib/python3.11/dist-packages (from keras>=3.9->bayesflow>=2.0) (3.14.0)\n",
            "Requirement already satisfied: optree in /usr/local/lib/python3.11/dist-packages (from keras>=3.9->bayesflow>=2.0) (0.16.0)\n",
            "Requirement already satisfied: ml-dtypes in /usr/local/lib/python3.11/dist-packages (from keras>=3.9->bayesflow>=2.0) (0.4.1)\n",
            "Requirement already satisfied: packaging in /usr/local/lib/python3.11/dist-packages (from keras>=3.9->bayesflow>=2.0) (24.2)\n",
            "Requirement already satisfied: contourpy>=1.0.1 in /usr/local/lib/python3.11/dist-packages (from matplotlib->bayesflow>=2.0) (1.3.2)\n",
            "Requirement already satisfied: cycler>=0.10 in /usr/local/lib/python3.11/dist-packages (from matplotlib->bayesflow>=2.0) (0.12.1)\n",
            "Requirement already satisfied: fonttools>=4.22.0 in /usr/local/lib/python3.11/dist-packages (from matplotlib->bayesflow>=2.0) (4.58.4)\n",
            "Requirement already satisfied: kiwisolver>=1.3.1 in /usr/local/lib/python3.11/dist-packages (from matplotlib->bayesflow>=2.0) (1.4.8)\n",
            "Requirement already satisfied: pillow>=8 in /usr/local/lib/python3.11/dist-packages (from matplotlib->bayesflow>=2.0) (11.2.1)\n",
            "Requirement already satisfied: pyparsing>=2.3.1 in /usr/local/lib/python3.11/dist-packages (from matplotlib->bayesflow>=2.0) (3.2.3)\n",
            "Requirement already satisfied: python-dateutil>=2.7 in /usr/local/lib/python3.11/dist-packages (from matplotlib->bayesflow>=2.0) (2.9.0.post0)\n",
            "Requirement already satisfied: pytz>=2020.1 in /usr/local/lib/python3.11/dist-packages (from pandas->bayesflow>=2.0) (2025.2)\n",
            "Requirement already satisfied: tzdata>=2022.7 in /usr/local/lib/python3.11/dist-packages (from pandas->bayesflow>=2.0) (2025.2)\n",
            "Requirement already satisfied: six>=1.5 in /usr/local/lib/python3.11/dist-packages (from python-dateutil>=2.7->matplotlib->bayesflow>=2.0) (1.17.0)\n",
            "Requirement already satisfied: typing-extensions>=4.6.0 in /usr/local/lib/python3.11/dist-packages (from optree->keras>=3.9->bayesflow>=2.0) (4.14.0)\n",
            "Requirement already satisfied: markdown-it-py>=2.2.0 in /usr/local/lib/python3.11/dist-packages (from rich->keras>=3.9->bayesflow>=2.0) (3.0.0)\n",
            "Requirement already satisfied: pygments<3.0.0,>=2.13.0 in /usr/local/lib/python3.11/dist-packages (from rich->keras>=3.9->bayesflow>=2.0) (2.19.2)\n",
            "Requirement already satisfied: mdurl~=0.1 in /usr/local/lib/python3.11/dist-packages (from markdown-it-py>=2.2.0->rich->keras>=3.9->bayesflow>=2.0) (0.1.2)\n",
            "Requirement already satisfied: tensorflow in /usr/local/lib/python3.11/dist-packages (2.18.0)\n",
            "Requirement already satisfied: absl-py>=1.0.0 in /usr/local/lib/python3.11/dist-packages (from tensorflow) (1.4.0)\n",
            "Requirement already satisfied: astunparse>=1.6.0 in /usr/local/lib/python3.11/dist-packages (from tensorflow) (1.6.3)\n",
            "Requirement already satisfied: flatbuffers>=24.3.25 in /usr/local/lib/python3.11/dist-packages (from tensorflow) (25.2.10)\n",
            "Requirement already satisfied: gast!=0.5.0,!=0.5.1,!=0.5.2,>=0.2.1 in /usr/local/lib/python3.11/dist-packages (from tensorflow) (0.6.0)\n",
            "Requirement already satisfied: google-pasta>=0.1.1 in /usr/local/lib/python3.11/dist-packages (from tensorflow) (0.2.0)\n",
            "Requirement already satisfied: libclang>=13.0.0 in /usr/local/lib/python3.11/dist-packages (from tensorflow) (18.1.1)\n",
            "Requirement already satisfied: opt-einsum>=2.3.2 in /usr/local/lib/python3.11/dist-packages (from tensorflow) (3.4.0)\n",
            "Requirement already satisfied: packaging in /usr/local/lib/python3.11/dist-packages (from tensorflow) (24.2)\n",
            "Requirement already satisfied: protobuf!=4.21.0,!=4.21.1,!=4.21.2,!=4.21.3,!=4.21.4,!=4.21.5,<6.0.0dev,>=3.20.3 in /usr/local/lib/python3.11/dist-packages (from tensorflow) (5.29.5)\n",
            "Requirement already satisfied: requests<3,>=2.21.0 in /usr/local/lib/python3.11/dist-packages (from tensorflow) (2.32.3)\n",
            "Requirement already satisfied: setuptools in /usr/local/lib/python3.11/dist-packages (from tensorflow) (75.2.0)\n",
            "Requirement already satisfied: six>=1.12.0 in /usr/local/lib/python3.11/dist-packages (from tensorflow) (1.17.0)\n",
            "Requirement already satisfied: termcolor>=1.1.0 in /usr/local/lib/python3.11/dist-packages (from tensorflow) (3.1.0)\n",
            "Requirement already satisfied: typing-extensions>=3.6.6 in /usr/local/lib/python3.11/dist-packages (from tensorflow) (4.14.0)\n",
            "Requirement already satisfied: wrapt>=1.11.0 in /usr/local/lib/python3.11/dist-packages (from tensorflow) (1.17.2)\n",
            "Requirement already satisfied: grpcio<2.0,>=1.24.3 in /usr/local/lib/python3.11/dist-packages (from tensorflow) (1.73.1)\n",
            "Requirement already satisfied: tensorboard<2.19,>=2.18 in /usr/local/lib/python3.11/dist-packages (from tensorflow) (2.18.0)\n",
            "Requirement already satisfied: keras>=3.5.0 in /usr/local/lib/python3.11/dist-packages (from tensorflow) (3.10.0)\n",
            "Requirement already satisfied: numpy<2.1.0,>=1.26.0 in /usr/local/lib/python3.11/dist-packages (from tensorflow) (1.26.4)\n",
            "Requirement already satisfied: h5py>=3.11.0 in /usr/local/lib/python3.11/dist-packages (from tensorflow) (3.14.0)\n",
            "Requirement already satisfied: ml-dtypes<0.5.0,>=0.4.0 in /usr/local/lib/python3.11/dist-packages (from tensorflow) (0.4.1)\n",
            "Requirement already satisfied: tensorflow-io-gcs-filesystem>=0.23.1 in /usr/local/lib/python3.11/dist-packages (from tensorflow) (0.37.1)\n",
            "Requirement already satisfied: wheel<1.0,>=0.23.0 in /usr/local/lib/python3.11/dist-packages (from astunparse>=1.6.0->tensorflow) (0.45.1)\n",
            "Requirement already satisfied: rich in /usr/local/lib/python3.11/dist-packages (from keras>=3.5.0->tensorflow) (13.9.4)\n",
            "Requirement already satisfied: namex in /usr/local/lib/python3.11/dist-packages (from keras>=3.5.0->tensorflow) (0.1.0)\n",
            "Requirement already satisfied: optree in /usr/local/lib/python3.11/dist-packages (from keras>=3.5.0->tensorflow) (0.16.0)\n",
            "Requirement already satisfied: charset-normalizer<4,>=2 in /usr/local/lib/python3.11/dist-packages (from requests<3,>=2.21.0->tensorflow) (3.4.2)\n",
            "Requirement already satisfied: idna<4,>=2.5 in /usr/local/lib/python3.11/dist-packages (from requests<3,>=2.21.0->tensorflow) (3.10)\n",
            "Requirement already satisfied: urllib3<3,>=1.21.1 in /usr/local/lib/python3.11/dist-packages (from requests<3,>=2.21.0->tensorflow) (2.4.0)\n",
            "Requirement already satisfied: certifi>=2017.4.17 in /usr/local/lib/python3.11/dist-packages (from requests<3,>=2.21.0->tensorflow) (2025.6.15)\n",
            "Requirement already satisfied: markdown>=2.6.8 in /usr/local/lib/python3.11/dist-packages (from tensorboard<2.19,>=2.18->tensorflow) (3.8.2)\n",
            "Requirement already satisfied: tensorboard-data-server<0.8.0,>=0.7.0 in /usr/local/lib/python3.11/dist-packages (from tensorboard<2.19,>=2.18->tensorflow) (0.7.2)\n",
            "Requirement already satisfied: werkzeug>=1.0.1 in /usr/local/lib/python3.11/dist-packages (from tensorboard<2.19,>=2.18->tensorflow) (3.1.3)\n",
            "Requirement already satisfied: MarkupSafe>=2.1.1 in /usr/local/lib/python3.11/dist-packages (from werkzeug>=1.0.1->tensorboard<2.19,>=2.18->tensorflow) (3.0.2)\n",
            "Requirement already satisfied: markdown-it-py>=2.2.0 in /usr/local/lib/python3.11/dist-packages (from rich->keras>=3.5.0->tensorflow) (3.0.0)\n",
            "Requirement already satisfied: pygments<3.0.0,>=2.13.0 in /usr/local/lib/python3.11/dist-packages (from rich->keras>=3.5.0->tensorflow) (2.19.2)\n",
            "Requirement already satisfied: mdurl~=0.1 in /usr/local/lib/python3.11/dist-packages (from markdown-it-py>=2.2.0->rich->keras>=3.5.0->tensorflow) (0.1.2)\n"
          ]
        }
      ],
      "source": [
        "!pip install \"bayesflow>=2.0\"\n",
        "!pip install tensorflow  # CPU version is fine; GPU optional"
      ]
    },
    {
      "cell_type": "code",
      "source": [
        "import os\n",
        "os.environ[\"KERAS_BACKEND\"] = \"tensorflow\"\n",
        "import bayesflow"
      ],
      "metadata": {
        "colab": {
          "base_uri": "https://localhost:8080/"
        },
        "id": "iZm6NH5ONnTA",
        "outputId": "9c7008fb-2e3f-4ca1-d9af-4a7c5cf3c11f"
      },
      "execution_count": 2,
      "outputs": [
        {
          "output_type": "stream",
          "name": "stderr",
          "text": [
            "INFO:bayesflow:Using backend 'tensorflow'\n"
          ]
        }
      ]
    },
    {
      "cell_type": "code",
      "source": [
        "import numpy as np\n",
        "import tensorflow as tf\n",
        "import bayesflow as bf\n",
        "\n",
        "from bayesflow.types import Shape\n",
        "from bayesflow.utils import tree_concatenate\n",
        "from bayesflow.utils.decorators import allow_batch_size"
      ],
      "metadata": {
        "id": "hkSpdtSkNrWJ"
      },
      "execution_count": 3,
      "outputs": []
    },
    {
      "cell_type": "code",
      "source": [
        "class HiddenStateSimulator:\n",
        "    def __init__(self, seq_len=50):\n",
        "        self.seq_len = seq_len\n",
        "        self.states = ['alpha', 'other']\n",
        "        self.amino_acids = ['A', 'R', 'N', 'D', 'C', 'E', 'Q', 'G', 'H', 'I',\n",
        "                            'L', 'K', 'M', 'F', 'P', 'S', 'T', 'W', 'Y', 'V']\n",
        "\n",
        "        # Emission probabilities\n",
        "        self.emissions = {\n",
        "            'alpha': np.array([\n",
        "                12, 6, 3, 5, 1, 9, 5, 4, 2, 7,\n",
        "                12, 6, 3, 4, 2, 5, 4, 1, 3, 6\n",
        "            ]) / 100,\n",
        "            'other': np.array([\n",
        "                6, 5, 5, 6, 2, 5, 3, 9, 3, 5,\n",
        "                8, 6, 2, 4, 6, 7, 6, 1, 4, 7\n",
        "            ]) / 100\n",
        "        }\n",
        "\n",
        "        # Transition matrix: rows are from-states, columns are to-states\n",
        "        self.transitions = {\n",
        "            'alpha': {'alpha': 0.90, 'other': 0.10},\n",
        "            'other': {'alpha': 0.05, 'other': 0.95}\n",
        "        }\n",
        "\n",
        "    def sample(self, batch_shape=1):\n",
        "        samples = []\n",
        "        states = []\n",
        "\n",
        "        for _ in range(batch_shape):\n",
        "            seq = []\n",
        "            st_seq = []\n",
        "\n",
        "            current_state = 'other'\n",
        "            for _ in range(self.seq_len):\n",
        "                # Emit amino acid\n",
        "                probs = self.emissions[current_state]\n",
        "                aa = np.random.choice(self.amino_acids, p=probs)\n",
        "                seq.append(aa)\n",
        "                st_seq.append(current_state)\n",
        "\n",
        "                # Transition to next state\n",
        "                next_state = np.random.choice(self.states, p=[\n",
        "                    self.transitions[current_state]['alpha'],\n",
        "                    self.transitions[current_state]['other']\n",
        "                ])\n",
        "                current_state = next_state\n",
        "\n",
        "            samples.append(seq)\n",
        "            states.append(st_seq)\n",
        "\n",
        "        return {\n",
        "            'observed_sequence': samples,\n",
        "            'hidden_states': states\n",
        "        }"
      ],
      "metadata": {
        "id": "mu8z5dH5NuUX"
      },
      "execution_count": 4,
      "outputs": []
    },
    {
      "cell_type": "code",
      "source": [
        "sim = HiddenStateSimulator(seq_len=50)\n",
        "data = sim.sample(batch_shape=1000)\n",
        "\n",
        "print(\"Amino acid sequence:\")\n",
        "print(data['observed_sequence'][0])\n",
        "print(\"\\nHidden states:\")\n",
        "print(data['hidden_states'][0])\n",
        "# len(data['observed_sequence'][0])"
      ],
      "metadata": {
        "colab": {
          "base_uri": "https://localhost:8080/"
        },
        "id": "VlN_PsaRN0W2",
        "outputId": "60e07686-b888-4362-df22-3a52350aeff1"
      },
      "execution_count": 5,
      "outputs": [
        {
          "output_type": "stream",
          "name": "stdout",
          "text": [
            "Amino acid sequence:\n",
            "['E', 'P', 'L', 'G', 'P', 'F', 'K', 'S', 'G', 'K', 'E', 'D', 'L', 'W', 'I', 'D', 'S', 'D', 'G', 'C', 'P', 'T', 'K', 'S', 'R', 'S', 'Q', 'V', 'F', 'N', 'H', 'M', 'D', 'T', 'K', 'P', 'I', 'E', 'I', 'S', 'Y', 'P', 'N', 'Y', 'D', 'P', 'K', 'L', 'I', 'S']\n",
            "\n",
            "Hidden states:\n",
            "['other', 'other', 'other', 'other', 'other', 'other', 'other', 'other', 'other', 'other', 'other', 'other', 'other', 'other', 'other', 'other', 'other', 'other', 'other', 'other', 'other', 'other', 'other', 'other', 'other', 'other', 'other', 'other', 'other', 'other', 'other', 'other', 'other', 'other', 'other', 'other', 'alpha', 'alpha', 'alpha', 'alpha', 'other', 'other', 'other', 'other', 'other', 'other', 'other', 'other', 'other', 'other']\n"
          ]
        }
      ]
    },
    {
      "cell_type": "code",
      "source": [
        "# Map amino acids to integers (0 to 19)\n",
        "amino_acids = ['A', 'R', 'N', 'D', 'C', 'E', 'Q', 'G', 'H', 'I',\n",
        "               'L', 'K', 'M', 'F', 'P', 'S', 'T', 'W', 'Y', 'V']\n",
        "aa_to_index = {aa: i for i, aa in enumerate(amino_acids)}\n",
        "\n",
        "# Map states to integers\n",
        "states = [\"alpha\", \"other\"]\n",
        "state_to_int = {'alpha': 1, 'other': 0}\n",
        "index_to_state = {0: \"alpha\", 1: \"other\"}"
      ],
      "metadata": {
        "id": "X2x9qOb1N9FF"
      },
      "execution_count": 18,
      "outputs": []
    },
    {
      "cell_type": "code",
      "source": [
        "def viterbi(obs_seq, states, start_prob, trans_prob, emit_prob):\n",
        "    n_states = len(states)\n",
        "    T = len(obs_seq)\n",
        "\n",
        "    log_prob = np.full((n_states, T), -np.inf)\n",
        "    backpointer = np.zeros((n_states, T), dtype=int)\n",
        "\n",
        "    # Initialization\n",
        "    for s, state in enumerate(states):\n",
        "        aa_idx = aa_to_index[obs_seq[0]]\n",
        "        log_prob[s, 0] = np.log(start_prob[state]) + np.log(emit_prob[state][aa_idx])\n",
        "\n",
        "    # Recursion\n",
        "    for t in range(1, T):\n",
        "        aa_idx = aa_to_index[obs_seq[t]]\n",
        "        for s, state in enumerate(states):\n",
        "            trans_probs = [\n",
        "                log_prob[sp, t - 1] + np.log(trans_prob[states[sp]][state])\n",
        "                for sp in range(n_states)\n",
        "            ]\n",
        "            best_prev_state = np.argmax(trans_probs)\n",
        "            log_prob[s, t] = trans_probs[best_prev_state] + np.log(emit_prob[state][aa_idx])\n",
        "            backpointer[s, t] = best_prev_state\n",
        "\n",
        "    # Backtracking\n",
        "    best_last_state = np.argmax(log_prob[:, -1])\n",
        "    best_path = [best_last_state]\n",
        "\n",
        "    for t in range(T - 1, 0, -1):\n",
        "        best_last_state = backpointer[best_last_state, t]\n",
        "        best_path.insert(0, best_last_state)\n",
        "\n",
        "    return [index_to_state[i] for i in best_path]"
      ],
      "metadata": {
        "id": "d_-nIvCzN-np"
      },
      "execution_count": 10,
      "outputs": []
    },
    {
      "cell_type": "code",
      "source": [
        "transition_probs = {\n",
        "    \"alpha\": {\"alpha\": 0.90, \"other\": 0.10},\n",
        "    \"other\": {\"alpha\": 0.05, \"other\": 0.95}\n",
        "}\n",
        "\n",
        "emission_probs = {\n",
        "    \"alpha\": np.array([12, 6, 3, 5, 1, 9, 5, 4, 2, 7, 12, 6, 3, 4, 2, 5, 4, 1, 3, 6]) / 100,  # your alpha emission vector\n",
        "    \"other\": np.array([6, 5, 5, 6, 2, 5, 3, 9, 3, 5, 8, 6, 2, 4, 6, 7, 6, 1, 4, 7]) / 100,  # your other emission vector\n",
        "}"
      ],
      "metadata": {
        "id": "CxPBiPjpOgAr"
      },
      "execution_count": 24,
      "outputs": []
    },
    {
      "cell_type": "code",
      "source": [
        "sequence = data[\"observed_sequence\"][0]  # e.g. [\"A\", \"E\", \"F\", ..., \"V\"]\n",
        "start_prob = {\"alpha\": 0, \"other\": 1}  # or use the HMM's long-run proportions\n",
        "\n",
        "viterbi_path = viterbi(\n",
        "    obs_seq=sequence,\n",
        "    states=states,\n",
        "    start_prob=start_prob,\n",
        "    trans_prob=transition_probs,\n",
        "    emit_prob=emission_probs\n",
        ")\n",
        "\n",
        "print(\"Viterbi decoded states:\")\n",
        "print(viterbi_path)"
      ],
      "metadata": {
        "colab": {
          "base_uri": "https://localhost:8080/"
        },
        "id": "RZH3FBS_ODeX",
        "outputId": "1bf02e64-f6c8-45bc-fc26-2283acd5f885"
      },
      "execution_count": 25,
      "outputs": [
        {
          "output_type": "stream",
          "name": "stdout",
          "text": [
            "Viterbi decoded states:\n",
            "['other', 'other', 'other', 'other', 'other', 'other', 'other', 'other', 'other', 'other', 'other', 'other', 'other', 'other', 'other', 'other', 'other', 'other', 'other', 'other', 'other', 'other', 'other', 'other', 'other', 'other', 'other', 'other', 'other', 'other', 'other', 'other', 'other', 'other', 'other', 'other', 'other', 'other', 'other', 'other', 'other', 'other', 'other', 'other', 'other', 'other', 'other', 'other', 'other', 'other']\n"
          ]
        },
        {
          "output_type": "stream",
          "name": "stderr",
          "text": [
            "/tmp/ipython-input-10-1610845022.py:11: RuntimeWarning: divide by zero encountered in log\n",
            "  log_prob[s, 0] = np.log(start_prob[state]) + np.log(emit_prob[state][aa_idx])\n"
          ]
        }
      ]
    }
  ]
}